{
 "cells": [
  {
   "cell_type": "code",
   "execution_count": 201,
   "id": "647c64a6",
   "metadata": {},
   "outputs": [
    {
     "data": {
      "text/plain": [
       "0"
      ]
     },
     "execution_count": 201,
     "metadata": {},
     "output_type": "execute_result"
    }
   ],
   "source": [
    "a = lambda: 0\n",
    "a()"
   ]
  },
  {
   "cell_type": "code",
   "execution_count": 217,
   "id": "66ad5e05",
   "metadata": {},
   "outputs": [
    {
     "name": "stdout",
     "output_type": "stream",
     "text": [
      "3\n"
     ]
    }
   ],
   "source": [
    "def solution(n, edge):\n",
    "    INF = 20000\n",
    "    dist = [INF] * (n + 1)\n",
    "    visited = [False] * (n + 1)\n",
    "    \n",
    "#     getSmallestIndex = lambda: sorted([(idx, dist[idx]) for idx \n",
    "#                                in list(filter(lambda i: visited[i] == False, \n",
    "#                                               list(range(n+1))))],\n",
    "#                              key=lambda x: x[1])[0][0]\n",
    "    def getSmallestIndex():\n",
    "        minDist = INF\n",
    "        index = 1\n",
    "        for i in range(1, n +1):\n",
    "#         while True:\n",
    "            if dist[i] <= minDist and visited[i] == False:\n",
    "                minDist = dist[i]\n",
    "                index = i\n",
    "                break\n",
    "                \n",
    "        return i\n",
    "    # from start node 1.\n",
    "    dist[1] = 0\n",
    "    for i in range(len(edge)):\n",
    "        s, e = edge[i]\n",
    "        if s == 1:\n",
    "            dist[e] = 1\n",
    "        elif e == 1:\n",
    "            dist[s] = 1\n",
    "    visited[1] = True\n",
    "    for i in range(n * 2):\n",
    "        now = getSmallestIndex()\n",
    "        visited[now] = True\n",
    "#         print(f'now: {now}')\n",
    "        for j in range(len(edge)):\n",
    "            s, e = edge[j]\n",
    "            if s == now:\n",
    "                if dist[s] + 1 < dist[e]:\n",
    "                    dist[e] = dist[s] + 1\n",
    "            elif e == now:\n",
    "                if dist[e] + 1 < dist[s]:\n",
    "                    dist[s] = dist[e] + 1\n",
    "#         print(visited)\n",
    "#         print(dist)\n",
    "    \n",
    "    \n",
    "    return dist.count(max(dist[1:]))\n",
    "\n",
    "\n",
    "\n",
    "print(solution(6,\t[[3, 6], [4, 3], [3, 2], [1, 3], [1, 2], [2, 4], [5, 2]]))  # 3"
   ]
  },
  {
   "cell_type": "code",
   "execution_count": null,
   "id": "f413bc03",
   "metadata": {},
   "outputs": [],
   "source": []
  },
  {
   "cell_type": "code",
   "execution_count": 251,
   "id": "40528ffe",
   "metadata": {},
   "outputs": [
    {
     "data": {
      "text/plain": [
       "(-100, 'hi')"
      ]
     },
     "execution_count": 251,
     "metadata": {},
     "output_type": "execute_result"
    }
   ],
   "source": [
    "from queue import PriorityQueue\n",
    "pq = PriorityQueue()\n",
    "pq.put((-1, 'hi'))\n",
    "pq.put((-100, 'hi'))\n",
    "pq.get()"
   ]
  },
  {
   "cell_type": "code",
   "execution_count": 245,
   "id": "f4713b41",
   "metadata": {},
   "outputs": [
    {
     "data": {
      "text/plain": [
       "1"
      ]
     },
     "execution_count": 245,
     "metadata": {},
     "output_type": "execute_result"
    }
   ],
   "source": [
    "pq.get()"
   ]
  },
  {
   "cell_type": "code",
   "execution_count": 272,
   "id": "506447b6",
   "metadata": {},
   "outputs": [
    {
     "name": "stdout",
     "output_type": "stream",
     "text": [
      "3\n"
     ]
    }
   ],
   "source": [
    "def pt(x):\n",
    "    print(f'   {\"  \".join([str(e) for e in range(len(x))])}')\n",
    "    for lcnt, i in enumerate(x):\n",
    "        print(f'{lcnt} {i}')\n",
    "def abToGraph(n, edge):\n",
    "        # n + 1 : 시작 노드 형식은 1번부터.\n",
    "        arr = [[0 for _ in range(n + 1)] for _ in range(n + 1)]\n",
    "        for a, b in edge:\n",
    "            arr[a][b] = 1\n",
    "            arr[b][a] = 1\n",
    "#         pt(arr)\n",
    "        return arr\n",
    "    \n",
    "def solution(n, edge):\n",
    "    INF = 20000\n",
    "    dist = [INF] * (n + 1)  # 시작 노드 형식은 1번부터.\n",
    "    visited = [False] * (n + 1)\n",
    "    graph = abToGraph(n, edge)\n",
    "    \n",
    "    def getSmallestIndex():\n",
    "        index = 1  # 시작 노드 형식은 1번부터.\n",
    "        minDist = INF  # 초기화\n",
    "#         print(visited)\n",
    "#         print(dist)\n",
    "        \n",
    "        for i in range(1, n + 1):\n",
    "            if dist[i] < minDist and visited[i] == False:\n",
    "                minDist = dist[i]\n",
    "                index = i\n",
    "#         print(f'small i: {index}')\n",
    "        return index\n",
    "    \n",
    "    # 시작 노드\n",
    "    dist[1] = 0\n",
    "    for i in range(2, n - 1):\n",
    "#         cost = 1  #dist[1] + 1\n",
    "        if graph[1][i] == 1:# and cost < dist[i]:\n",
    "            dist[i] = 1  #cost\n",
    "    visited[1] = True\n",
    "#     print('='*50)\n",
    "#     print(dist)\n",
    "#     print('='*50)\n",
    "    \n",
    "    # dijkstra\n",
    "    for i in range(n - 1):\n",
    "#         print('-'*50)\n",
    "        now = getSmallestIndex()\n",
    "        visited[now] = True\n",
    "#         for end in range(1, n + 1):\n",
    "        for end in graph[now]:\n",
    "            cost = dist[now] + 1\n",
    "            if cost < dist[end]:\n",
    "                dist[end] = cost\n",
    "#         print(dist)\n",
    "    return dist.count(max(dist[1:]))\n",
    "\n",
    "\n",
    "        \n",
    "print(solution(6,\t[[3, 6], [4, 3], [3, 2], [1, 3], [1, 2], [2, 4], [5, 2]]))  # 3"
   ]
  },
  {
   "cell_type": "code",
   "execution_count": 291,
   "id": "19481b7b",
   "metadata": {},
   "outputs": [
    {
     "name": "stdout",
     "output_type": "stream",
     "text": [
      "3\n"
     ]
    }
   ],
   "source": [
    "def solution(n, edge):\n",
    "    INF = 20000\n",
    "    dist = [INF] * (n + 1)  # 시작 노드 형식은 1번부터.\n",
    "    visited = [False] * (n + 1)\n",
    "    graph = abToGraph(n, edge)\n",
    "#     pt(graph)\n",
    "    def getSmallestIdx():\n",
    "#         print(dist)\n",
    "        minDist = INF\n",
    "        idx = 1\n",
    "        for i in range(1, n + 1):\n",
    "            if dist[i] < minDist and not visited[i]:\n",
    "                minDist = dist[i]\n",
    "                idx = i\n",
    "#         print(f'small: {idx}')\n",
    "        return idx\n",
    "    # 시작노드에 대해서 초기화\n",
    "    start = 1\n",
    "    dist[start] = 0\n",
    "    visited[start] = True\n",
    "#     print(dist)\n",
    "    \n",
    "    for i in range(2, n + 1):\n",
    "        if graph[start][i] == 1:\n",
    "            dist[i] = 1\n",
    "#     print(dist)\n",
    "    \n",
    "    for i in range(n - 1):\n",
    "        now = getSmallestIdx()\n",
    "        visited[now] = True\n",
    "        for j in range(1, n + 1):\n",
    "#             print(f'now/j: {now}/{j} {graph[now][j] == 1}')\n",
    "            if graph[now][j] == 1:\n",
    "                cost = dist[now] + 1\n",
    "#                 print(f'cost: {cost}')\n",
    "                if cost < dist[j]:\n",
    "                    dist[j] = cost\n",
    "#         print([str(e)[0] for e in visited])\n",
    "#         print(dist)\n",
    "    \n",
    "    return dist.count(max(dist[1:]))\n",
    "        \n",
    "print(solution(6,\t[[3, 6], [4, 3], [3, 2], [1, 3], [1, 2], [2, 4], [5, 2]]))  # 3        "
   ]
  },
  {
   "cell_type": "code",
   "execution_count": null,
   "id": "ffaf2f51",
   "metadata": {},
   "outputs": [
    {
     "name": "stdout",
     "output_type": "stream",
     "text": [
      "(1, 2, 3, 4)\n"
     ]
    }
   ],
   "source": [
    "pq = PriorityQueue()\n",
    "pq.put((1,2,3,4))\n",
    "while pq:\n",
    "    print(pq.get())"
   ]
  },
  {
   "cell_type": "code",
   "execution_count": 4,
   "id": "73ed6104",
   "metadata": {},
   "outputs": [
    {
     "name": "stdout",
     "output_type": "stream",
     "text": [
      "3\n"
     ]
    }
   ],
   "source": [
    "from queue import PriorityQueue\n",
    "\n",
    "\n",
    "def abToGraph(n, edge):\n",
    "        # n + 1 : 시작 노드 형식은 1번부터.\n",
    "        arr = [[0 for _ in range(n + 1)] for _ in range(n + 1)]\n",
    "        for a, b in edge:\n",
    "            arr[a][b] = 1\n",
    "            arr[b][a] = 1\n",
    "#         pt(arr)\n",
    "        return arr\n",
    "\n",
    "def solution(n, edge):\n",
    "    INF = 20000\n",
    "    dist = [INF] * (n + 1)  # 시작 노드 형식은 1번부터.\n",
    "#     visited = [False] * (n + 1)\n",
    "    pq = PriorityQueue()\n",
    "    graph = abToGraph(n, edge)\n",
    "#     pt(graph)\n",
    "    # 시작노드에 대해서 초기화\n",
    "    start = 1\n",
    "    dist[start] = 0\n",
    "    # visited[start] = True\n",
    "#     print(dist)\n",
    "    \n",
    "    for i in range(2, n + 1):\n",
    "        if graph[start][i] == 1:\n",
    "            dist[i] = 1\n",
    "            pq.put((dist[i], i))\n",
    "#     print(dist)\n",
    "    \n",
    "#     for i in range(n - 1):\n",
    "    while not pq.empty():\n",
    "#         now = getSmallestIdx()\n",
    "#         visited[now] = True\n",
    "        distNow, now = pq.get()\n",
    "        for j in range(1, n + 1):\n",
    "#             print(f'now/j: {now}/{j} {graph[now][j] == 1}')\n",
    "            if graph[now][j] == 1:\n",
    "                cost = distNow + 1\n",
    "#                 print(f'cost: {cost}')\n",
    "                if cost < dist[j]:\n",
    "                    dist[j] = cost\n",
    "                    pq.put((cost, j))\n",
    "#         print([str(e)[0] for e in visited])\n",
    "#         print(dist)\n",
    "    \n",
    "    return dist.count(max(dist[1:]))\n",
    "        \n",
    "print(solution(6,\t[[3, 6], [4, 3], [3, 2], [1, 3], [1, 2], [2, 4], [5, 2]]))  # 3        "
   ]
  },
  {
   "cell_type": "code",
   "execution_count": 110,
   "id": "dd8ab803",
   "metadata": {},
   "outputs": [
    {
     "ename": "UnboundLocalError",
     "evalue": "local variable 'thereIsEdge' referenced before assignment",
     "output_type": "error",
     "traceback": [
      "\u001b[1;31m---------------------------------------------------------------------------\u001b[0m",
      "\u001b[1;31mUnboundLocalError\u001b[0m                         Traceback (most recent call last)",
      "\u001b[1;32m<ipython-input-110-c60ab80dd92a>\u001b[0m in \u001b[0;36m<module>\u001b[1;34m\u001b[0m\n\u001b[0;32m     44\u001b[0m     \u001b[1;32mreturn\u001b[0m \u001b[0mdist\u001b[0m\u001b[1;33m.\u001b[0m\u001b[0mcount\u001b[0m\u001b[1;33m(\u001b[0m\u001b[0mmax\u001b[0m\u001b[1;33m(\u001b[0m\u001b[0mdist\u001b[0m\u001b[1;33m[\u001b[0m\u001b[1;36m1\u001b[0m\u001b[1;33m:\u001b[0m\u001b[1;33m]\u001b[0m\u001b[1;33m)\u001b[0m\u001b[1;33m)\u001b[0m\u001b[1;33m\u001b[0m\u001b[1;33m\u001b[0m\u001b[0m\n\u001b[0;32m     45\u001b[0m \u001b[1;33m\u001b[0m\u001b[0m\n\u001b[1;32m---> 46\u001b[1;33m \u001b[0mprint\u001b[0m\u001b[1;33m(\u001b[0m\u001b[0msolution\u001b[0m\u001b[1;33m(\u001b[0m\u001b[1;36m6\u001b[0m\u001b[1;33m,\u001b[0m       \u001b[1;33m[\u001b[0m\u001b[1;33m[\u001b[0m\u001b[1;36m3\u001b[0m\u001b[1;33m,\u001b[0m \u001b[1;36m6\u001b[0m\u001b[1;33m]\u001b[0m\u001b[1;33m,\u001b[0m \u001b[1;33m[\u001b[0m\u001b[1;36m4\u001b[0m\u001b[1;33m,\u001b[0m \u001b[1;36m3\u001b[0m\u001b[1;33m]\u001b[0m\u001b[1;33m,\u001b[0m \u001b[1;33m[\u001b[0m\u001b[1;36m3\u001b[0m\u001b[1;33m,\u001b[0m \u001b[1;36m2\u001b[0m\u001b[1;33m]\u001b[0m\u001b[1;33m,\u001b[0m \u001b[1;33m[\u001b[0m\u001b[1;36m1\u001b[0m\u001b[1;33m,\u001b[0m \u001b[1;36m3\u001b[0m\u001b[1;33m]\u001b[0m\u001b[1;33m,\u001b[0m \u001b[1;33m[\u001b[0m\u001b[1;36m1\u001b[0m\u001b[1;33m,\u001b[0m \u001b[1;36m2\u001b[0m\u001b[1;33m]\u001b[0m\u001b[1;33m,\u001b[0m \u001b[1;33m[\u001b[0m\u001b[1;36m2\u001b[0m\u001b[1;33m,\u001b[0m \u001b[1;36m4\u001b[0m\u001b[1;33m]\u001b[0m\u001b[1;33m,\u001b[0m \u001b[1;33m[\u001b[0m\u001b[1;36m5\u001b[0m\u001b[1;33m,\u001b[0m \u001b[1;36m2\u001b[0m\u001b[1;33m]\u001b[0m\u001b[1;33m]\u001b[0m\u001b[1;33m)\u001b[0m\u001b[1;33m)\u001b[0m  \u001b[1;31m# 3\u001b[0m\u001b[1;33m\u001b[0m\u001b[1;33m\u001b[0m\u001b[0m\n\u001b[0m",
      "\u001b[1;32m<ipython-input-110-c60ab80dd92a>\u001b[0m in \u001b[0;36msolution\u001b[1;34m(n, edge)\u001b[0m\n\u001b[0;32m     20\u001b[0m             \u001b[0mthereIsEdge\u001b[0m \u001b[1;33m=\u001b[0m \u001b[1;32mTrue\u001b[0m\u001b[1;33m\u001b[0m\u001b[1;33m\u001b[0m\u001b[0m\n\u001b[0;32m     21\u001b[0m             \u001b[0mi\u001b[0m \u001b[1;33m=\u001b[0m \u001b[0ma\u001b[0m\u001b[1;33m\u001b[0m\u001b[1;33m\u001b[0m\u001b[0m\n\u001b[1;32m---> 22\u001b[1;33m         \u001b[1;32mif\u001b[0m \u001b[0mthereIsEdge\u001b[0m\u001b[1;33m:\u001b[0m\u001b[1;33m\u001b[0m\u001b[1;33m\u001b[0m\u001b[0m\n\u001b[0m\u001b[0;32m     23\u001b[0m             \u001b[0mdist\u001b[0m\u001b[1;33m[\u001b[0m\u001b[0mi\u001b[0m\u001b[1;33m]\u001b[0m \u001b[1;33m=\u001b[0m \u001b[1;36m1\u001b[0m\u001b[1;33m\u001b[0m\u001b[1;33m\u001b[0m\u001b[0m\n\u001b[0;32m     24\u001b[0m             \u001b[0mpq\u001b[0m\u001b[1;33m.\u001b[0m\u001b[0mput\u001b[0m\u001b[1;33m(\u001b[0m\u001b[1;33m(\u001b[0m\u001b[0mdist\u001b[0m\u001b[1;33m[\u001b[0m\u001b[0mi\u001b[0m\u001b[1;33m]\u001b[0m\u001b[1;33m,\u001b[0m \u001b[0mi\u001b[0m\u001b[1;33m)\u001b[0m\u001b[1;33m)\u001b[0m\u001b[1;33m\u001b[0m\u001b[1;33m\u001b[0m\u001b[0m\n",
      "\u001b[1;31mUnboundLocalError\u001b[0m: local variable 'thereIsEdge' referenced before assignment"
     ]
    }
   ],
   "source": [
    "from queue import PriorityQueue\n",
    "\n",
    "\n",
    "def solution(n, edge):\n",
    "    INF = 20000\n",
    "    dist = [INF] * (n + 1)  # 시작 노드 형식은 1번부터.\n",
    "    pq = PriorityQueue()\n",
    "    # 시작노드에 대해서 초기화\n",
    "    start = 1\n",
    "    dist[start] = 0\n",
    "    # visited[start] = True\n",
    "#     print(dist)\n",
    "    \n",
    "#     for i in range(2, n + 1):\n",
    "    for a, b in edge:\n",
    "        if a == start:\n",
    "            thereIsEdge = True\n",
    "            i = b\n",
    "        elif b == start:\n",
    "            thereIsEdge = True\n",
    "            i = a\n",
    "        if thereIsEdge:\n",
    "            dist[i] = 1\n",
    "            pq.put((dist[i], i))\n",
    "        \n",
    "#     print(dist)\n",
    "    \n",
    "#     for i in range(n - 1):\n",
    "    while not pq.empty():\n",
    "#         now = getSmallestIdx()\n",
    "#         visited[now] = True\n",
    "        distNow, now = pq.get()\n",
    "        for j in range(1, n + 1):\n",
    "#             print(f'now/j: {now}/{j} {graph[now][j] == 1}')\n",
    "            if graph[now][j] == 1:\n",
    "                cost = distNow + 1\n",
    "#                 print(f'cost: {cost}')\n",
    "                if cost < dist[j]:\n",
    "                    dist[j] = cost\n",
    "                    pq.put((cost, j))\n",
    "#         print([str(e)[0] for e in visited])\n",
    "#         print(dist)\n",
    "    \n",
    "    return dist.count(max(dist[1:]))\n",
    "        \n",
    "print(solution(6,\t[[3, 6], [4, 3], [3, 2], [1, 3], [1, 2], [2, 4], [5, 2]]))  # 3        "
   ]
  },
  {
   "cell_type": "code",
   "execution_count": null,
   "id": "bb47a733",
   "metadata": {},
   "outputs": [],
   "source": []
  },
  {
   "cell_type": "code",
   "execution_count": null,
   "id": "aec91264",
   "metadata": {},
   "outputs": [],
   "source": []
  },
  {
   "cell_type": "code",
   "execution_count": 111,
   "id": "2b4d7a20",
   "metadata": {},
   "outputs": [
    {
     "data": {
      "text/plain": [
       "'c:\\\\workspace\\\\algorithm-and-optimization\\\\DFS_BFS'"
      ]
     },
     "execution_count": 111,
     "metadata": {},
     "output_type": "execute_result"
    }
   ],
   "source": [
    "import os\n",
    "os.getcwd()"
   ]
  },
  {
   "cell_type": "code",
   "execution_count": 113,
   "id": "88486bc6",
   "metadata": {},
   "outputs": [
    {
     "name": "stderr",
     "output_type": "stream",
     "text": [
      "'cp'은(는) 내부 또는 외부 명령, 실행할 수 있는 프로그램, 또는\n",
      "배치 파일이 아닙니다.\n"
     ]
    }
   ],
   "source": [
    "!cp c:\\\\workspace\\\\algorithm-and-optimization\\\\DFS_BFS ..\\\\"
   ]
  },
  {
   "cell_type": "code",
   "execution_count": 68,
   "id": "8110afac",
   "metadata": {},
   "outputs": [
    {
     "name": "stdout",
     "output_type": "stream",
     "text": [
      "s, ans, power, _power\n",
      "B 1 1 25\n",
      "B 2 1 25\n",
      "B 3 1 25\n",
      "A 3 0 26\n",
      "A 3 0 26\n",
      "A 3 0 26\n",
      "B 4 1 25\n",
      "4\n",
      "--------------------------------------------------\n",
      "8\n"
     ]
    }
   ],
   "source": [
    "def solution(name):\n",
    "    n = len(name)  # A-Z\n",
    "    INTERVAL = 26\n",
    "    ans = 0 #len(name)  # initialize\n",
    "    INF = int((len(name) + 1)/2)\n",
    "    \n",
    "    print('s, ans, power, _power')\n",
    "    for s in name:\n",
    "        power = ord(s) - ord('A')\n",
    "        _power = INTERVAL - power\n",
    "        if power >= 13:\n",
    "            \n",
    "            ans += _power\n",
    "        else:\n",
    "            ans += power\n",
    "        \n",
    "        print(s, ans, power, _power)\n",
    "    print(ans)\n",
    "    print('-'*50)\n",
    "    if n == 1:\n",
    "        return ans\n",
    "    arr = list(filter(lambda x: x[1] != 'A', [(i, name[i]) for i in range(len(name))]))\n",
    "    arr = list([x[0] for x in arr])\n",
    "    if len(arr) == 0:\n",
    "        return ans\n",
    "    i = arr.pop(0)#[0]\n",
    "    if len(arr) == 0:\n",
    "        minDist = INF\n",
    "        diff = i  # abs(i - 0)\n",
    "        dist = min(diff, n - diff)\n",
    "        if dist < minDist:\n",
    "            minDist = dist\n",
    "        ans += minDist\n",
    "    while arr:\n",
    "        minDist = INF\n",
    "        for j in arr:\n",
    "#             print(f'j:{j}')\n",
    "            diff = abs(i - j)\n",
    "            dist = min(diff, n - diff)\n",
    "            if dist < minDist:\n",
    "                minDist = dist\n",
    "        ans += minDist\n",
    "        i = j\n",
    "        arr.remove(i)\n",
    "#     ans -= minDist\n",
    "#     print(ans)\n",
    "    return ans\n",
    "    \n",
    "    \n",
    "    \n",
    "# solution(\"JEROEN\")  # 56\n",
    "# solution(\"AAAZ\")  # 2\n",
    "# solution(\"A\")  # 0\n",
    "# solution(\"AA\")  # 0\n",
    "print(solution(\"BBBAAAB\"))#9\n",
    "# print(solution(\"ABABAAAAABA\")) #11"
   ]
  },
  {
   "cell_type": "code",
   "execution_count": 70,
   "id": "eeaab273",
   "metadata": {},
   "outputs": [
    {
     "ename": "AttributeError",
     "evalue": "'str' object has no attribute 'pop'",
     "output_type": "error",
     "traceback": [
      "\u001b[1;31m---------------------------------------------------------------------------\u001b[0m",
      "\u001b[1;31mAttributeError\u001b[0m                            Traceback (most recent call last)",
      "\u001b[1;32m<ipython-input-70-b4926103c947>\u001b[0m in \u001b[0;36m<module>\u001b[1;34m\u001b[0m\n\u001b[1;32m----> 1\u001b[1;33m \u001b[1;34m'abc'\u001b[0m\u001b[1;33m.\u001b[0m\u001b[0mpop\u001b[0m\u001b[1;33m(\u001b[0m\u001b[1;33m)\u001b[0m\u001b[1;33m\u001b[0m\u001b[1;33m\u001b[0m\u001b[0m\n\u001b[0m",
      "\u001b[1;31mAttributeError\u001b[0m: 'str' object has no attribute 'pop'"
     ]
    }
   ],
   "source": [
    "'abc'.pop()"
   ]
  },
  {
   "cell_type": "code",
   "execution_count": 69,
   "id": "3d9d1c5d",
   "metadata": {},
   "outputs": [
    {
     "data": {
      "text/plain": [
       "['a', 'b', 'c']"
      ]
     },
     "execution_count": 69,
     "metadata": {},
     "output_type": "execute_result"
    }
   ],
   "source": [
    "sorted('cba')"
   ]
  },
  {
   "cell_type": "code",
   "execution_count": null,
   "id": "0955fad1",
   "metadata": {},
   "outputs": [],
   "source": [
    "# 푸는 중\n",
    "\n",
    "def solution(name):\n",
    "    n = len(name)  # A-Z\n",
    "    ans = len(name)  # initialize\n",
    "    INF = int((len(name) + 1)/2)\n",
    "    \n",
    "    for s in name:\n",
    "        power = ord(s) - ord('A')\n",
    "        if power >= 13:\n",
    "            ans += n - power\n",
    "        else:\n",
    "            ans += power\n",
    "    filter(lambda s: s != 'A', [(i, name[i] for i in range(len(name))\n",
    "#     answer = 0\n",
    "#     ordA = ord('A')\n",
    "#     mem = 0\n",
    "#     l_indice = list()#[0]\n",
    "#     for idx, char in enumerate(name):\n",
    "#         delta = ord(char) - ordA\n",
    "#         if delta > 12.5:\n",
    "#             delta = 26 - delta\n",
    "#         if delta >0:# and idx != 0:\n",
    "#             mem += delta\n",
    "#             if idx != 0:\n",
    "#                 l_indice.append(idx)\n",
    "#     try:\n",
    "#         idx_min = l_indice[0]\n",
    "#         idx_max = l_indice[-1]\n",
    "#     except:\n",
    "#         idx_min = 0\n",
    "#         idx_max = 0\n",
    "\n",
    "#     # 순방향 역방향 결정\n",
    "#     dist = 0\n",
    "#     if (len(name) - idx_max) >= idx_min:# and len():# and idx_min !=0:\n",
    "#         # mem += idx_max\n",
    "#         dist += idx_max\n",
    "#     else:\n",
    "#         # mem += -(-len(name) + idx_min)\n",
    "#         if idx_min == 0:\n",
    "#             dist += -(-len(name) + idx_max)\n",
    "#             print('역방향')\n",
    "#             return mem+ dist\n",
    "#         dist += -(-len(name) + idx_min)\n",
    "#     # dist = 0\n",
    "#     # if (len(name) - idx_max) >= idx_min:# and len():# and idx_min !=0:\n",
    "#     #     # mem += -(-len(name) + idx_min)\n",
    "#     #     if idx_min == 0:\n",
    "#     #         dist += -(-len(name) + idx_max)\n",
    "#     #         print('역방향')\n",
    "#     #         return mem+ dist\n",
    "#     #     dist += -(-len(name) + idx_min)\n",
    "#     # else:\n",
    "#     #     # mem += idx_max\n",
    "#     #     dist += idx_max\n",
    "        \n",
    "        \n",
    "#     print()\n",
    "#     return mem+ dist"
   ]
  },
  {
   "cell_type": "code",
   "execution_count": null,
   "id": "ffa1efb9",
   "metadata": {},
   "outputs": [],
   "source": []
  },
  {
   "cell_type": "code",
   "execution_count": null,
   "id": "e3edaed4",
   "metadata": {},
   "outputs": [],
   "source": []
  },
  {
   "cell_type": "code",
   "execution_count": 109,
   "id": "465cc10c",
   "metadata": {},
   "outputs": [
    {
     "name": "stdout",
     "output_type": "stream",
     "text": [
      "cursor cnt\n",
      "0 0 1 9 1924\n",
      "0 1 9 2 924\n",
      "1 1 2 4 924\n",
      "94\n",
      "cursor cnt\n",
      "0 0 1 2 1231234\n",
      "0 1 2 3 231234\n",
      "0 2 3 1 31234\n",
      "1 2 1 2 31234\n",
      "3234\n",
      "cursor cnt\n",
      "0 0 4 1 4177252841\n",
      "1 0 1 7 4177252841\n",
      "0 1 4 7 477252841\n",
      "0 2 7 7 77252841\n",
      "1 2 7 2 77252841\n",
      "2 2 2 5 77252841\n",
      "1 3 7 5 7752841\n",
      "2 3 5 2 7752841\n",
      "3 3 2 8 7752841\n",
      "775841\n",
      "cursor cnt\n",
      "0 0 7 7 777777\n",
      "1 0 7 7 777777\n",
      "2 0 7 7 777777\n",
      "3 0 7 7 777777\n",
      "4 0 7 7 777777\n",
      "77777\n"
     ]
    }
   ],
   "source": [
    "# PGRs 그리디 큰 수 만들기\n",
    "\n",
    "def solution(number, k):\n",
    "    cnt = 0\n",
    "    cursor = 0\n",
    "    print('cursor', 'cnt')\n",
    "    while cnt < k and cursor < len(number) - 1:\n",
    "        print(cursor, cnt, number[cursor], number[cursor + 1], number)\n",
    "#         if number[cursor] == 0:\n",
    "#             print('hi')\n",
    "        if number[cursor] == '0' or number[cursor] < number[cursor + 1]:\n",
    "#             if number[cursor + 1] != '0':\n",
    "            number = number[:cursor] + number[cursor+1:]\n",
    "            cnt += 1\n",
    "            if cursor != 0:\n",
    "                cursor -= 1\n",
    "        else :\n",
    "            cursor += 1\n",
    "    if cnt < k:\n",
    "        cursor -= 1\n",
    "        number = number[:cursor] + number[cursor+1:]\n",
    "        cnt += 1\n",
    "        \n",
    "#     if number[cursor] < number[cursor + 1]:\n",
    "#             number = number[:cursor] + number[cursor+1:]\n",
    "    return number\n",
    "\n",
    "print(solution(\"1924\",\t2))  #\t\"94\"\n",
    "print(solution(\"1231234\",\t3))  #\t\"3234\"\n",
    "print(solution(\"4177252841\",\t4))  #\t\"775841\"\n",
    "print(solution(\"777777\",\t3))  #\t\"777\"\n",
    "# print(solution(\"1001\",\t3))  #\t\"777\""
   ]
  },
  {
   "cell_type": "code",
   "execution_count": 75,
   "id": "35378de9",
   "metadata": {},
   "outputs": [
    {
     "name": "stdout",
     "output_type": "stream",
     "text": [
      "1924\n",
      "1231234\n",
      "4177252841\n"
     ]
    }
   ],
   "source": []
  },
  {
   "cell_type": "code",
   "execution_count": null,
   "id": "66b64a6c",
   "metadata": {},
   "outputs": [],
   "source": []
  }
 ],
 "metadata": {
  "kernelspec": {
   "display_name": "Python 3",
   "language": "python",
   "name": "python3"
  },
  "language_info": {
   "codemirror_mode": {
    "name": "ipython",
    "version": 3
   },
   "file_extension": ".py",
   "mimetype": "text/x-python",
   "name": "python",
   "nbconvert_exporter": "python",
   "pygments_lexer": "ipython3",
   "version": "3.9.4"
  }
 },
 "nbformat": 4,
 "nbformat_minor": 5
}
