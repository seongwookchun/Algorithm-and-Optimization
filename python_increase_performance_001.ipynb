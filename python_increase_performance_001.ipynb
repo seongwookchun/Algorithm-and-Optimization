{
 "cells": [
  {
   "cell_type": "markdown",
   "metadata": {},
   "source": [
    "# 파이썬 성능 높이기 by 가브리엘레 라나로(Gabriele Lanaro)\n",
    "### 2019.05.28.(화) 19:16"
   ]
  },
  {
   "cell_type": "markdown",
   "metadata": {},
   "source": [
    "1. 클래스에 __init__ 메서드를 사용하는 상황을 알게 되었다.\n",
    "2. 아래와 다소 복잡해 보이는 순서에 따라서 전체 코드가 실행되는데,\n",
    "Particle class -> ParticleSimulator class -> visualize function -> test_visualize\n",
    "이 구조를 유창하게 사용할 수 있게 되면, 더욱 유지보수 및 관리가 용이한 코드를 만드는데 도움이 될 것이다.\n"
   ]
  },
  {
   "cell_type": "code",
   "execution_count": 41,
   "metadata": {},
   "outputs": [
    {
     "name": "stdout",
     "output_type": "stream",
     "text": [
      "X: [0.0]\n",
      "Y: [0.5]\n",
      "line Line2D(_line0)\n",
      "type line <class 'matplotlib.lines.Line2D'>\n",
      "type(anim) <class 'matplotlib.animation.FuncAnimation'>\n"
     ]
    },
    {
     "data": {
      "image/png": "[encoded data removed]",
      "text/plain": [
       "<Figure size 432x288 with 1 Axes>"
      ]
     },
     "metadata": {
      "needs_background": "light"
     },
     "output_type": "display_data"
    }
   ],
   "source": [
    "class Particle:\n",
    "    def __init__(self, x, y, ang_vel):\n",
    "        self.x = x\n",
    "        self.y = y\n",
    "        self.ang_vel = ang_vel    # __init__ 메서드에 @ self변수를 생성하면, \n",
    "                                  # 클래스의 인스턴트를 생성할 때 넣어주는 매개변수 값이\n",
    "                                  #  __init__ 메서드의 변수에 할당된다.\n",
    "        \n",
    "class ParticleSimulator:\n",
    "    def __init__(self, particles):\n",
    "        self.particles = particles\n",
    "    \n",
    "    def evolve(self, dt):\n",
    "        timestep = 0.00001\n",
    "        nsteps = int(dt/timestep)\n",
    "        \n",
    "        for i in range(nsteps):\n",
    "            for p in self.particles:\n",
    "                # 1. 방향을 계산한다.\n",
    "                norm = (p.x**2 + p.y**2)**0.5\n",
    "                v_x = -p.y/norm\n",
    "                v_y = p.x/norm\n",
    "                \n",
    "                # 2. 변위를 계산한다\n",
    "                d_x = timestep * p.ang_vel * v_x\n",
    "                d_y = timestep * p.ang_vel * v_y\n",
    "                \n",
    "                p.x += d_x\n",
    "                p.y += d_y\n",
    "                # 3. 모든 시간 단계를 반복한다.\n",
    "                \n",
    "import matplotlib.pyplot as plt\n",
    "from matplotlib import animation as anime\n",
    "\n",
    "def visualize(simulator):\n",
    "    X = [p.x for p in simulator.particles]\n",
    "    Y = [p.y for p in simulator.particles]\n",
    "    print('X:', X)\n",
    "    print('Y:', Y)\n",
    "    fig = plt.figure()\n",
    "    ax = plt.subplot(111, aspect='equal')\n",
    "    line, = ax.plot(X, Y, 'ro')\n",
    "    print('line', line)\n",
    "    print('type line', type(line))\n",
    "    \n",
    "    # 축 한계\n",
    "    plt.xlim(-1, 1)\n",
    "    plt.ylim(-1, 1)\n",
    "    \n",
    "    # 이 코드는 애니메이션이 시작할 때 실행될 것이다.\n",
    "    def init():\n",
    "        line.set_data([], [])\n",
    "        return line, # 쉼표가 중요하다!    , tuple 형태로 반환한다.\n",
    "    \n",
    "    def animate(i):\n",
    "        # 0.01 시간 단위만큼 입자를 진전시킨다\n",
    "        simulator.evolve(0.01)\n",
    "        X = [p.x for p in simulator.particles]\n",
    "        Y = [p.y for p in simulator.particles]\n",
    "        \n",
    "        line.set_data(X, Y)\n",
    "        return line,    \n",
    "    \n",
    "    # animate 함수를 10ms마다 호출한다\n",
    "#     anim = matplotlib.animation.FuncAnimation(fig, animate, init_func=init, blit=True, interval=10)\n",
    "    anim = anime.FuncAnimation(fig, animate, init_func=init, blit=True, interval=10)\n",
    "    print('type(anim)', type(anim))\n",
    "    plt.plot()\n",
    "    plt.show()\n",
    "\n",
    "def test_visualize():\n",
    "    particles = [Particle(0.0, 0.5, 1),]\n",
    "#                 Particle(0.0, -0.5, -1),\n",
    "#                 Particle(-0.1, -0.4, 3)]\n",
    "    simulator = ParticleSimulator(particles)\n",
    "    visualize(simulator)\n",
    "    \n",
    "if __name__ == '__main__':\n",
    "    test_visualize()"
   ]
  },
  {
   "cell_type": "code",
   "execution_count": 24,
   "metadata": {},
   "outputs": [
    {
     "name": "stdout",
     "output_type": "stream",
     "text": [
      "1 2\n",
      "1 2\n"
     ]
    },
    {
     "data": {
      "text/plain": [
       "1"
      ]
     },
     "execution_count": 24,
     "metadata": {},
     "output_type": "execute_result"
    }
   ],
   "source": [
    "def __init__(x, y, a, b):\n",
    "    print(x, y)\n",
    "    return x,\n",
    "type(__init__(1, 2, 3, 4))\n",
    "len(__init__(1, 2, 3, 4))"
   ]
  },
  {
   "cell_type": "code",
   "execution_count": 59,
   "metadata": {},
   "outputs": [
    {
     "data": {
      "text/plain": [
       "[<matplotlib.lines.Line2D at 0xebc9d90>,\n",
       " <matplotlib.lines.Line2D at 0xebc9310>,\n",
       " <matplotlib.lines.Line2D at 0xebc9d30>]"
      ]
     },
     "execution_count": 59,
     "metadata": {},
     "output_type": "execute_result"
    },
    {
     "data": {
      "image/png": "[encoded data removed]",
      "text/plain": [
       "<Figure size 432x288 with 1 Axes>"
      ]
     },
     "metadata": {
      "needs_background": "light"
     },
     "output_type": "display_data"
    }
   ],
   "source": [
    "x = 5\n",
    "plt.ylim(0, 45)\n",
    "plt.plot([[x, x, x], [10, 20, 30]])\n",
    "# plt.show()"
   ]
  },
  {
   "cell_type": "code",
   "execution_count": 61,
   "metadata": {},
   "outputs": [],
   "source": [
    "def test_evolve():\n",
    "    particles = [Particle(0.3, 0.5, 1),\n",
    "                Particle(0.0, -0.5, -1),\n",
    "                Particle(-0.1, -0.4, 3)]\n",
    "    \n",
    "    simulator = ParticleSimulator(particles)\n",
    "    \n",
    "    simulator.evolve(0.1)\n",
    "    \n",
    "    p0, p1, p2 = particles\n",
    "    \n",
    "    def fequal(a, b, eps=1e-5):\n",
    "        return abs(a-b) < eps\n",
    "    \n",
    "    assert fequal(p0.x, 0.210269)\n",
    "    assert fequal(p0.y, 0.543863)\n",
    "    \n",
    "    assert fequal(p1.x, -0.099334)\n",
    "    assert fequal(p1.y, -0.490034)\n",
    "    \n",
    "    assert fequal(p2.x, 0.191358)\n",
    "    assert fequal(p2.y, -0.365227)\n",
    "    \n",
    "if __name__ == '__main__':\n",
    "    test_evolve()"
   ]
  },
  {
   "cell_type": "code",
   "execution_count": 62,
   "metadata": {},
   "outputs": [
    {
     "data": {
      "image/png": "[encoded data removed]",
      "text/plain": [
       "<Figure size 432x288 with 1 Axes>"
      ]
     },
     "metadata": {
      "needs_background": "light"
     },
     "output_type": "display_data"
    }
   ],
   "source": [
    "\"\"\"\n",
    "A simple example of an animated plot\n",
    "\"\"\"\n",
    "import numpy as np\n",
    "import matplotlib.pyplot as plt\n",
    "import matplotlib.animation as animation\n",
    "\n",
    "fig, ax = plt.subplots()\n",
    "\n",
    "x = np.arange(0, 2*np.pi, 0.01)\n",
    "line, = ax.plot(x, np.sin(x))\n",
    "\n",
    "\n",
    "def animate(i):\n",
    "    line.set_ydata(np.sin(x + i/10.0))  # update the data\n",
    "    return line,\n",
    "\n",
    "\n",
    "# Init only required for blitting to give a clean slate.\n",
    "def init():\n",
    "    line.set_ydata(np.ma.array(x, mask=True))\n",
    "    return line,\n",
    "\n",
    "ani = animation.FuncAnimation(fig, animate, np.arange(1, 200), init_func=init,\n",
    "                              interval=25, blit=True)\n",
    "plt.show()"
   ]
  },
  {
   "cell_type": "code",
   "execution_count": 65,
   "metadata": {},
   "outputs": [
    {
     "name": "stdout",
     "output_type": "stream",
     "text": [
      "timestep: 0.01 dt: 0.1\n",
      "nsteps: 10\n"
     ]
    },
    {
     "ename": "AssertionError",
     "evalue": "",
     "output_type": "error",
     "traceback": [
      "\u001b[1;31m---------------------------------------------------------------------------\u001b[0m",
      "\u001b[1;31mAssertionError\u001b[0m                            Traceback (most recent call last)",
      "\u001b[1;32m<ipython-input-65-7333179a8744>\u001b[0m in \u001b[0;36m<module>\u001b[1;34m\u001b[0m\n\u001b[0;32m     98\u001b[0m \u001b[1;33m\u001b[0m\u001b[0m\n\u001b[0;32m     99\u001b[0m \u001b[1;32mif\u001b[0m \u001b[0m__name__\u001b[0m \u001b[1;33m==\u001b[0m \u001b[1;34m'__main__'\u001b[0m\u001b[1;33m:\u001b[0m\u001b[1;33m\u001b[0m\u001b[1;33m\u001b[0m\u001b[0m\n\u001b[1;32m--> 100\u001b[1;33m     \u001b[0mtest_evolve\u001b[0m\u001b[1;33m(\u001b[0m\u001b[1;33m)\u001b[0m\u001b[1;33m\u001b[0m\u001b[1;33m\u001b[0m\u001b[0m\n\u001b[0m",
      "\u001b[1;32m<ipython-input-65-7333179a8744>\u001b[0m in \u001b[0;36mtest_evolve\u001b[1;34m()\u001b[0m\n\u001b[0;32m     88\u001b[0m         \u001b[1;32mreturn\u001b[0m \u001b[0mabs\u001b[0m\u001b[1;33m(\u001b[0m\u001b[0ma\u001b[0m\u001b[1;33m-\u001b[0m\u001b[0mb\u001b[0m\u001b[1;33m)\u001b[0m \u001b[1;33m<\u001b[0m \u001b[0meps\u001b[0m\u001b[1;33m\u001b[0m\u001b[1;33m\u001b[0m\u001b[0m\n\u001b[0;32m     89\u001b[0m \u001b[1;33m\u001b[0m\u001b[0m\n\u001b[1;32m---> 90\u001b[1;33m     \u001b[1;32massert\u001b[0m \u001b[0mfequal\u001b[0m\u001b[1;33m(\u001b[0m\u001b[0mp0\u001b[0m\u001b[1;33m.\u001b[0m\u001b[0mx\u001b[0m\u001b[1;33m,\u001b[0m \u001b[1;36m0.210269\u001b[0m\u001b[1;33m)\u001b[0m\u001b[1;33m\u001b[0m\u001b[1;33m\u001b[0m\u001b[0m\n\u001b[0m\u001b[0;32m     91\u001b[0m     \u001b[1;32massert\u001b[0m \u001b[0mfequal\u001b[0m\u001b[1;33m(\u001b[0m\u001b[0mp0\u001b[0m\u001b[1;33m.\u001b[0m\u001b[0my\u001b[0m\u001b[1;33m,\u001b[0m \u001b[1;36m0.543863\u001b[0m\u001b[1;33m)\u001b[0m\u001b[1;33m\u001b[0m\u001b[1;33m\u001b[0m\u001b[0m\n\u001b[0;32m     92\u001b[0m \u001b[1;33m\u001b[0m\u001b[0m\n",
      "\u001b[1;31mAssertionError\u001b[0m: "
     ]
    }
   ],
   "source": [
    "class Particle:\n",
    "    def __init__(self, x, y, ang_vel):\n",
    "        self.x = x\n",
    "        self.y = y\n",
    "        self.ang_vel = ang_vel    #\n",
    "        \n",
    "class ParticleSimulator:\n",
    "    def __init__(self, particles):\n",
    "        self.particles = particles\n",
    "    \n",
    "    def evolve(self, dt):\n",
    "        timestep = 0.01\n",
    "        nsteps = int(dt/timestep)\n",
    "        print('timestep:', timestep, 'dt:', dt)\n",
    "        print('res:', dt/timestep, 'nsteps:', nsteps)\n",
    "\n",
    "        for i in range(nsteps):\n",
    "            for p in self.particles:\n",
    "                norm = (p.x**2 + p.y**2)**0.5\n",
    "                v_x = -p.y/norm\n",
    "                v_y = p.x/norm\n",
    "                \n",
    "                d_x = timestep * p.ang_vel * v_x\n",
    "                d_y = timestep * p.ang_vel * v_y\n",
    "                \n",
    "                p.x += d_x\n",
    "                p.y += d_y\n",
    "                \n",
    "import matplotlib.pyplot as plt\n",
    "from matplotlib import animation as anime\n",
    "\n",
    "def visualize(simulator):\n",
    "    X = [p.x for p in simulator.particles]\n",
    "    Y = [p.y for p in simulator.particles]\n",
    "    print('X:', X)\n",
    "    print('Y:', Y)\n",
    "    fig = plt.figure()\n",
    "    ax = plt.subplot(111, aspect='equal')\n",
    "    line, = ax.plot(X, Y, 'ro')\n",
    "    print('line', line)\n",
    "    print('type line', type(line))\n",
    "    \n",
    "    plt.xlim(-1, 1)\n",
    "    plt.ylim(-1, 1)\n",
    "    \n",
    "    def init():\n",
    "        line.set_data([], [])\n",
    "        return line, #\n",
    "    \n",
    "    def animate(i):\n",
    "        simulator.evolve(0.1)\n",
    "        X = [p.x for p in simulator.particles]\n",
    "        Y = [p.y for p in simulator.particles]\n",
    "        \n",
    "        line.set_data(X, Y)\n",
    "        return line,    \n",
    "    \n",
    "#     anim = matplotlib.animation.FuncAnimation(fig, animate, init_func=init, blit=True, interval=10)\n",
    "    anim = anime.FuncAnimation(fig, animate, init_func=init, blit=True, interval=10)\n",
    "    print('type(anim)', type(anim))\n",
    "    plt.plot()\n",
    "    plt.show()\n",
    "\n",
    "def test_visualize():\n",
    "    particles = [Particle(0.3, 0.5, 1),\n",
    "                Particle(0.0, -0.5, -1),\n",
    "                Particle(-0.1, -0.4, 3)]\n",
    "    simulator = ParticleSimulator(particles)\n",
    "    visualize(simulator)\n",
    "    \n",
    "if __name__ == '__main__':\n",
    "    test_visualize()\n",
    "    \n",
    "    \n",
    "    \n",
    "def test_evolve():\n",
    "    particles = [Particle(0.3, 0.5, 1),\n",
    "                Particle(0.0, -0.5, -1),\n",
    "                Particle(-0.1, -0.4, 3)]\n",
    "    \n",
    "    simulator = ParticleSimulator(particles)\n",
    "    \n",
    "    simulator.evolve(0.1)\n",
    "    \n",
    "    p0, p1, p2 = particles\n",
    "    \n",
    "    def fequal(a, b, eps=1e-5):\n",
    "        return abs(a-b) < eps\n",
    "    \n",
    "    assert fequal(p0.x, 0.210269)\n",
    "    assert fequal(p0.y, 0.543863)\n",
    "    \n",
    "    assert fequal(p1.x, -0.099334)\n",
    "    assert fequal(p1.y, -0.490034)\n",
    "    \n",
    "    assert fequal(p2.x, 0.191358)\n",
    "    assert fequal(p2.y, -0.365227)\n",
    "    \n",
    "if __name__ == '__main__':\n",
    "    test_evolve()"
   ]
  }
 ],
 "metadata": {
  "kernelspec": {
   "display_name": "Python 3",
   "language": "python",
   "name": "python3"
  },
  "language_info": {
   "codemirror_mode": {
    "name": "ipython",
    "version": 3
   },
   "file_extension": ".py",
   "mimetype": "text/x-python",
   "name": "python",
   "nbconvert_exporter": "python",
   "pygments_lexer": "ipython3",
   "version": "3.7.3"
  }
 },
 "nbformat": 4,
 "nbformat_minor": 2
}
